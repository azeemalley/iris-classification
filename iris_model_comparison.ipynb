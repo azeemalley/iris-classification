{
  "nbformat": 4,
  "nbformat_minor": 0,
  "metadata": {
    "colab": {
      "provenance": []
    },
    "kernelspec": {
      "name": "python3",
      "display_name": "Python 3"
    },
    "language_info": {
      "name": "python"
    }
  },
  "cells": [
    {
      "cell_type": "markdown",
      "source": [
        "# Iris Dataset: KNN vs Decision Tree Comparison\n",
        "\n",
        "This notebook compares the performance of two classification models — K-Nearest Neighbors (KNN) and Decision Tree — on the Iris dataset.\n",
        "\n",
        "## 📊 What’s Included\n",
        "- Loading the Iris dataset\n",
        "- Splitting into training and testing sets\n",
        "- Training both KNN and Decision Tree models\n",
        "- Evaluating models using accuracy and classification report\n",
        "- Visual comparison with a bar chart\n",
        "\n",
        "## ✅ Results\n",
        "Both models performed well on the dataset with similar accuracy. This comparison helps understand which algorithm might be preferred based on interpretability, performance, or simplicity.\n"
      ],
      "metadata": {
        "id": "8wRwTeepmbZD"
      }
    },
    {
      "cell_type": "code",
      "execution_count": 1,
      "metadata": {
        "id": "tjt2C_b9jAIp"
      },
      "outputs": [],
      "source": [
        "# Import libraries\n",
        "import numpy as np\n",
        "import pandas as pd\n",
        "import matplotlib.pyplot as plt\n",
        "from sklearn.datasets import load_iris\n",
        "from sklearn.model_selection import train_test_split\n",
        "from sklearn.neighbors import KNeighborsClassifier\n",
        "from sklearn.tree import DecisionTreeClassifier\n",
        "from sklearn.metrics import accuracy_score, classification_report\n"
      ]
    },
    {
      "cell_type": "code",
      "source": [
        "# Load the Iris dataset and split it\n",
        "iris = load_iris()\n",
        "X = iris.data\n",
        "y = iris.target\n",
        "\n",
        "# Split into train and test sets\n",
        "X_train, X_test, y_train, y_test = train_test_split(X, y, test_size=0.2, random_state=42)\n"
      ],
      "metadata": {
        "id": "IckRUbWYlNM8"
      },
      "execution_count": 3,
      "outputs": []
    },
    {
      "cell_type": "code",
      "source": [
        "# Train the KNN model\n",
        "knn = KNeighborsClassifier(n_neighbors=3)\n",
        "knn.fit(X_train, y_train)\n",
        "\n",
        "# Make predictions\n",
        "knn_preds = knn.predict(X_test)\n",
        "\n",
        "# Evaluate KNN\n",
        "knn_accuracy = accuracy_score(y_test, knn_preds)\n",
        "print(\"KNN Accuracy:\", knn_accuracy)\n",
        "print(\"\\nKNN Classification Report:\\n\", classification_report(y_test, knn_preds, target_names=iris.target_names))\n"
      ],
      "metadata": {
        "colab": {
          "base_uri": "https://localhost:8080/"
        },
        "id": "YXnVPJE9le9O",
        "outputId": "33c7c51a-f1a7-4a50-c108-b8772287041a"
      },
      "execution_count": 4,
      "outputs": [
        {
          "output_type": "stream",
          "name": "stdout",
          "text": [
            "KNN Accuracy: 1.0\n",
            "\n",
            "KNN Classification Report:\n",
            "               precision    recall  f1-score   support\n",
            "\n",
            "      setosa       1.00      1.00      1.00        10\n",
            "  versicolor       1.00      1.00      1.00         9\n",
            "   virginica       1.00      1.00      1.00        11\n",
            "\n",
            "    accuracy                           1.00        30\n",
            "   macro avg       1.00      1.00      1.00        30\n",
            "weighted avg       1.00      1.00      1.00        30\n",
            "\n"
          ]
        }
      ]
    },
    {
      "cell_type": "code",
      "source": [
        "# Train the Decision Tree model\n",
        "dt = DecisionTreeClassifier(random_state=42)\n",
        "dt.fit(X_train, y_train)\n",
        "\n",
        "# Make predictions\n",
        "dt_preds = dt.predict(X_test)\n",
        "\n",
        "# Evaluate Decision Tree\n",
        "dt_accuracy = accuracy_score(y_test, dt_preds)\n",
        "print(\"Decision Tree Accuracy:\", dt_accuracy)\n",
        "print(\"\\nDecision Tree Classification Report:\\n\", classification_report(y_test, dt_preds, target_names=iris.target_names))\n"
      ],
      "metadata": {
        "colab": {
          "base_uri": "https://localhost:8080/"
        },
        "id": "hzJiJ2Halw8d",
        "outputId": "fe8b56d6-36f4-41f9-8a0e-28c6b202b8f4"
      },
      "execution_count": 5,
      "outputs": [
        {
          "output_type": "stream",
          "name": "stdout",
          "text": [
            "Decision Tree Accuracy: 1.0\n",
            "\n",
            "Decision Tree Classification Report:\n",
            "               precision    recall  f1-score   support\n",
            "\n",
            "      setosa       1.00      1.00      1.00        10\n",
            "  versicolor       1.00      1.00      1.00         9\n",
            "   virginica       1.00      1.00      1.00        11\n",
            "\n",
            "    accuracy                           1.00        30\n",
            "   macro avg       1.00      1.00      1.00        30\n",
            "weighted avg       1.00      1.00      1.00        30\n",
            "\n"
          ]
        }
      ]
    },
    {
      "cell_type": "code",
      "source": [
        "# Compare model accuracies using a bar chart\n",
        "models = ['KNN', 'Decision Tree']\n",
        "accuracies = [knn_accuracy, dt_accuracy]\n",
        "\n",
        "plt.figure(figsize=(6, 4))\n",
        "plt.bar(models, accuracies, color=['skyblue', 'salmon'])\n",
        "plt.ylim(0.8, 1.0)\n",
        "plt.title('Model Accuracy Comparison')\n",
        "plt.ylabel('Accuracy')\n",
        "plt.show()\n"
      ],
      "metadata": {
        "colab": {
          "base_uri": "https://localhost:8080/",
          "height": 391
        },
        "id": "yVjRJTX9mA9s",
        "outputId": "5549bb14-6a86-414c-c640-34953b21c25e"
      },
      "execution_count": 6,
      "outputs": [
        {
          "output_type": "display_data",
          "data": {
            "text/plain": [
              "<Figure size 600x400 with 1 Axes>"
            ],
            "image/png": "[encoded data removed]"
          },
          "metadata": {}
        }
      ]
    },
    {
      "cell_type": "markdown",
      "source": [],
      "metadata": {
        "id": "xEyG3oWRmZYQ"
      }
    }
  ]
}